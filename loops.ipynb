{
 "cells": [
  {
   "cell_type": "markdown",
   "id": "76258f44",
   "metadata": {},
   "source": [
    "# Loops\n",
    "\n",
    "for item in container:\n",
    "   do something"
   ]
  },
  {
   "cell_type": "markdown",
   "id": "1ec48122",
   "metadata": {},
   "source": [
    "### Example #1"
   ]
  },
  {
   "cell_type": "code",
   "execution_count": null,
   "id": "b7c3b921",
   "metadata": {},
   "outputs": [],
   "source": [
    "color_list = [\"red\",\"green\",\"violet\"]                              # ?\n",
    "for color in color_list:\n",
    "    print(color)"
   ]
  },
  {
   "cell_type": "markdown",
   "id": "b8f2ac4f",
   "metadata": {},
   "source": [
    "### Example #2"
   ]
  },
  {
   "cell_type": "code",
   "execution_count": null,
   "id": "064caf6f",
   "metadata": {},
   "outputs": [],
   "source": [
    "age_list = [20,25,30]\n",
    "for age in age_list:                                              \n",
    "    print(f\"Current age:{age} - age in 15 years:{age+15}\") "
   ]
  },
  {
   "cell_type": "markdown",
   "id": "b7734e6d",
   "metadata": {},
   "source": [
    "### Example #3"
   ]
  },
  {
   "cell_type": "code",
   "execution_count": null,
   "id": "ddd77975",
   "metadata": {},
   "outputs": [],
   "source": [
    "for num in range(8):                                              # ?\n",
    "   print(num)"
   ]
  },
  {
   "cell_type": "markdown",
   "id": "8283ea59",
   "metadata": {},
   "source": [
    "### Example #4"
   ]
  },
  {
   "cell_type": "code",
   "execution_count": null,
   "id": "f03ff8f6",
   "metadata": {},
   "outputs": [],
   "source": [
    "def double_num(num):\n",
    "    print(f\"The number {num} doubled is\", num * 2)   \n",
    "    \n",
    "    \n",
    "for num in range(4):\n",
    "    double_num(num)"
   ]
  },
  {
   "cell_type": "markdown",
   "id": "6f1214b6",
   "metadata": {},
   "source": [
    "### Example #5"
   ]
  },
  {
   "cell_type": "code",
   "execution_count": null,
   "id": "df45ed9d",
   "metadata": {},
   "outputs": [],
   "source": [
    "def double_num(num): \n",
    "    print(f\"   {num}       {num*2}\")  \n",
    "    \n",
    "print(\"Number  Doubled\") \n",
    "print(\"******  *******\")\n",
    "for num in range(4):\n",
    "    double_num(num)"
   ]
  },
  {
   "cell_type": "markdown",
   "id": "23e47ecf",
   "metadata": {},
   "source": [
    "### Note: \n",
    "\n",
    "To add URL \n",
    " - Change cell to Code \n",
    " - Add URL\n",
    " - Change cell to Markdown \n",
    " - Press Ctrl - Enter to activate link  "
   ]
  },
  {
   "cell_type": "code",
   "execution_count": null,
   "id": "7128c9ea",
   "metadata": {},
   "outputs": [],
   "source": [
    "### Loop Documentation"
   ]
  },
  {
   "cell_type": "markdown",
   "id": "5117be01",
   "metadata": {},
   "source": [
    "https://www.w3schools.com/python/python_for_loops.asp"
   ]
  }
 ],
 "metadata": {
  "kernelspec": {
   "display_name": "Python 3",
   "language": "python",
   "name": "python3"
  },
  "language_info": {
   "codemirror_mode": {
    "name": "ipython",
    "version": 3
   },
   "file_extension": ".py",
   "mimetype": "text/x-python",
   "name": "python",
   "nbconvert_exporter": "python",
   "pygments_lexer": "ipython3",
   "version": "3.8.8"
  }
 },
 "nbformat": 4,
 "nbformat_minor": 5
}
