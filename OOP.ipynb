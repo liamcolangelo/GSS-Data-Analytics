{
 "cells": [
  {
   "cell_type": "markdown",
   "metadata": {
    "id": "K3JVwUgVElwe"
   },
   "source": [
    "## Python Object Oriented Programming"
   ]
  },
  {
   "cell_type": "code",
   "execution_count": 71,
   "metadata": {},
   "outputs": [],
   "source": [
    "import warnings\n",
    "warnings.filterwarnings(\"ignore\")"
   ]
  },
  {
   "cell_type": "markdown",
   "metadata": {
    "id": "idga37M2FsMR"
   },
   "source": [
    "Here we will practice interacting with objects using methods and attributes."
   ]
  },
  {
   "cell_type": "markdown",
   "metadata": {},
   "source": [
    "### PART I: Person Class"
   ]
  },
  {
   "cell_type": "code",
   "execution_count": 5,
   "metadata": {},
   "outputs": [],
   "source": [
    "# The Person class contains information about a person.\n",
    "\n",
    "class Person():\n",
    "  def __init__(self,fname,lname,age):\n",
    "    self.fname = fname\n",
    "    self.lname = lname\n",
    "    self.age = age\n",
    "    \n",
    "  def celebrate_birthday(self):\n",
    "     self.age +=1\n",
    "          "
   ]
  },
  {
   "cell_type": "markdown",
   "metadata": {
    "id": "E90o2LJcwsMI"
   },
   "source": [
    "#### **Problem #1.1**"
   ]
  },
  {
   "cell_type": "code",
   "execution_count": 6,
   "metadata": {},
   "outputs": [],
   "source": [
    "# Create a \"person\" object \n",
    "person = Person(\"Liam\", \"Colangelo\", 17)"
   ]
  },
  {
   "cell_type": "code",
   "execution_count": 8,
   "metadata": {},
   "outputs": [],
   "source": [
    "# Print their age \n",
    "print(person.age)"
   ]
  },
  {
   "cell_type": "markdown",
   "metadata": {
    "id": "VV2qngN080MI"
   },
   "source": [
    "#### **Problem #1.2**"
   ]
  },
  {
   "cell_type": "code",
   "execution_count": 10,
   "metadata": {},
   "outputs": [],
   "source": [
    "# Set their age to 28\n",
    "person.age = 28"
   ]
  },
  {
   "cell_type": "markdown",
   "metadata": {
    "id": "PpyG4J8jyB_u"
   },
   "source": [
    "#### Problem #1.3\n"
   ]
  },
  {
   "cell_type": "code",
   "execution_count": 12,
   "metadata": {},
   "outputs": [],
   "source": [
    "# Create a second \"Person\" object "
   ]
  },
  {
   "cell_type": "code",
   "execution_count": 13,
   "metadata": {
    "id": "za3WWQC6zl_y"
   },
   "outputs": [],
   "source": [
    "person2 = Person(\"Peppe\", \"Roni\", 7)"
   ]
  },
  {
   "cell_type": "code",
   "execution_count": 14,
   "metadata": {},
   "outputs": [],
   "source": [
    "# Output their age "
   ]
  },
  {
   "cell_type": "code",
   "execution_count": 15,
   "metadata": {
    "id": "za3WWQC6zl_y"
   },
   "outputs": [],
   "source": [
    "print(person2.age)"
   ]
  },
  {
   "cell_type": "code",
   "execution_count": 16,
   "metadata": {},
   "outputs": [],
   "source": [
    "# Call the 'celebrate_birthday' method."
   ]
  },
  {
   "cell_type": "code",
   "execution_count": 17,
   "metadata": {
    "id": "za3WWQC6zl_y"
   },
   "outputs": [],
   "source": [
    "person2.celebrate_birthday()"
   ]
  },
  {
   "cell_type": "code",
   "execution_count": 18,
   "metadata": {},
   "outputs": [],
   "source": [
    "# Output their age again."
   ]
  },
  {
   "cell_type": "code",
   "execution_count": 19,
   "metadata": {
    "id": "za3WWQC6zl_y"
   },
   "outputs": [],
   "source": [
    "print(person2.age)"
   ]
  },
  {
   "cell_type": "markdown",
   "metadata": {
    "id": "1NLuZ2HS0ib4"
   },
   "source": [
    "#### Problem #1.4"
   ]
  },
  {
   "cell_type": "code",
   "execution_count": null,
   "metadata": {},
   "outputs": [],
   "source": [
    "# Create a third \"Person\" object "
   ]
  },
  {
   "cell_type": "code",
   "execution_count": null,
   "metadata": {},
   "outputs": [],
   "source": [
    "person3 = Person(\"Bill\", \"Cheswick\", 72)"
   ]
  },
  {
   "cell_type": "code",
   "execution_count": 21,
   "metadata": {},
   "outputs": [],
   "source": [
    "# Print their first name "
   ]
  },
  {
   "cell_type": "code",
   "execution_count": 22,
   "metadata": {
    "id": "urA0ZLTi0icL"
   },
   "outputs": [],
   "source": [
    "print(person3.fname)"
   ]
  },
  {
   "cell_type": "code",
   "execution_count": 23,
   "metadata": {},
   "outputs": [],
   "source": [
    "# Print their last name "
   ]
  },
  {
   "cell_type": "code",
   "execution_count": 24,
   "metadata": {
    "id": "urA0ZLTi0icL"
   },
   "outputs": [],
   "source": [
    "print(person3.lname)"
   ]
  },
  {
   "cell_type": "code",
   "execution_count": 25,
   "metadata": {},
   "outputs": [],
   "source": [
    "# Call the celebrate_birthday' method "
   ]
  },
  {
   "cell_type": "code",
   "execution_count": 26,
   "metadata": {
    "id": "n7gbGtKkW9S_"
   },
   "outputs": [],
   "source": [
    "person3.celebrate_birthday()"
   ]
  },
  {
   "cell_type": "code",
   "execution_count": 27,
   "metadata": {},
   "outputs": [],
   "source": [
    "# Print their age"
   ]
  },
  {
   "cell_type": "code",
   "execution_count": 28,
   "metadata": {},
   "outputs": [],
   "source": [
    "print(person3.age)"
   ]
  },
  {
   "cell_type": "markdown",
   "metadata": {},
   "source": [
    "### PART II: Coin Class"
   ]
  },
  {
   "cell_type": "code",
   "execution_count": 20,
   "metadata": {},
   "outputs": [],
   "source": [
    "import random\n",
    "\n",
    "# The Coin class simulates a coin that can be flipped.\n",
    "\n",
    "\n",
    "class Coin:\n",
    "    \n",
    "    # The __init__ method initializes the\n",
    "    # __sideup data attribute with 'Heads'.\n",
    "    \n",
    "    def __init__(self):\n",
    "        self.__sideup = \"Heads\"\n",
    "\n",
    "    # The toss method generates a random number\n",
    "    # in the range of 0 through 1. If the number\n",
    "    # is 0, then sideup is set to 'Heads'.\n",
    "    # Otherwise, sideup is set to 'Tails'.\n",
    "    \n",
    "    def toss(self):\n",
    "        if random.randint(0, 1) == 0:\n",
    "            self.__sideup = \"Heads\"\n",
    "        else:\n",
    "            self.__sideup = \"Tails\"\n",
    "\n",
    "    # The get_sideup method returns the value\n",
    "    # referenced by sideup.\n",
    "    \n",
    "    def get_sideup(self):\n",
    "        return self.__sideup\n",
    "\n",
    "    def __str__(self):\n",
    "        return(f\"The sideup is {self.__sideup }\")\n",
    "    "
   ]
  },
  {
   "cell_type": "markdown",
   "metadata": {
    "id": "uW7IdP0C9WJp"
   },
   "source": [
    "#### Problem #2.1"
   ]
  },
  {
   "cell_type": "code",
   "execution_count": 29,
   "metadata": {},
   "outputs": [],
   "source": [
    "# Create a 'Coin' object"
   ]
  },
  {
   "cell_type": "code",
   "execution_count": 30,
   "metadata": {},
   "outputs": [],
   "source": [
    "coin = Coin()"
   ]
  },
  {
   "cell_type": "code",
   "execution_count": 31,
   "metadata": {},
   "outputs": [],
   "source": [
    "# Display the side of the coin that is facing up."
   ]
  },
  {
   "cell_type": "code",
   "execution_count": 32,
   "metadata": {},
   "outputs": [],
   "source": [
    "print(coin.get_sideup())"
   ]
  },
  {
   "cell_type": "code",
   "execution_count": 33,
   "metadata": {},
   "outputs": [],
   "source": [
    "# Toss the coin."
   ]
  },
  {
   "cell_type": "code",
   "execution_count": 34,
   "metadata": {},
   "outputs": [],
   "source": [
    "coin.toss()"
   ]
  },
  {
   "cell_type": "code",
   "execution_count": 35,
   "metadata": {},
   "outputs": [],
   "source": [
    "# Display the side of the coin that is facing up."
   ]
  },
  {
   "cell_type": "code",
   "execution_count": 36,
   "metadata": {},
   "outputs": [],
   "source": [
    "print(coin.get_sideup())"
   ]
  },
  {
   "cell_type": "markdown",
   "metadata": {
    "id": "XvDIuw6vlsKN"
   },
   "source": [
    "### Part 3: Debugging\n",
    "\n",
    "In this part, you will explore how to identify and correct errors in Python."
   ]
  },
  {
   "cell_type": "markdown",
   "metadata": {
    "id": "ZuO22Rx-knbR"
   },
   "source": [
    "#### Problem 3.1"
   ]
  },
  {
   "cell_type": "code",
   "execution_count": 37,
   "metadata": {
    "colab": {
     "base_uri": "https://localhost:8080/",
     "height": 197
    },
    "executionInfo": {
     "elapsed": 4,
     "status": "error",
     "timestamp": 1707393265821,
     "user": {
      "displayName": "Adam Pearson",
      "userId": "12812318258019242438"
     },
     "user_tz": -120
    },
    "id": "aaa1mwF0knbe",
    "outputId": "1b1a29e6-2a65-42da-85e8-e74ae205e39e"
   },
   "outputs": [
    {
     "ename": "NameError",
     "evalue": "name 'plant' is not defined",
     "output_type": "error",
     "traceback": [
      "\u001b[1;31m---------------------------------------------------------------------------\u001b[0m",
      "\u001b[1;31mNameError\u001b[0m                                 Traceback (most recent call last)",
      "\u001b[1;32m<ipython-input-37-52761310b20d>\u001b[0m in \u001b[0;36m<module>\u001b[1;34m\u001b[0m\n\u001b[1;32m----> 1\u001b[1;33m \u001b[0mcactus\u001b[0m \u001b[1;33m=\u001b[0m \u001b[0mplant\u001b[0m\u001b[1;33m(\u001b[0m\u001b[1;33m)\u001b[0m\u001b[1;33m\u001b[0m\u001b[1;33m\u001b[0m\u001b[0m\n\u001b[0m",
      "\u001b[1;31mNameError\u001b[0m: name 'plant' is not defined"
     ]
    }
   ],
   "source": [
    "class plant:\n",
    "    def __init__(self):\n",
    "        self.__color = \"green\"\n",
    "\n",
    "\n",
    "cactus = plant()"
   ]
  },
  {
   "cell_type": "markdown",
   "metadata": {
    "id": "ZuO22Rx-knbR"
   },
   "source": [
    "#### Problem 3.2"
   ]
  },
  {
   "cell_type": "code",
   "execution_count": 38,
   "metadata": {
    "colab": {
     "base_uri": "https://localhost:8080/",
     "height": 197
    },
    "executionInfo": {
     "elapsed": 4,
     "status": "error",
     "timestamp": 1707393265821,
     "user": {
      "displayName": "Adam Pearson",
      "userId": "12812318258019242438"
     },
     "user_tz": -120
    },
    "id": "aaa1mwF0knbe",
    "outputId": "1b1a29e6-2a65-42da-85e8-e74ae205e39e"
   },
   "outputs": [
    {
     "ename": "TypeError",
     "evalue": "__init__() missing 3 required positional arguments: 'fname', 'lname', and 'age'",
     "output_type": "error",
     "traceback": [
      "\u001b[1;31m---------------------------------------------------------------------------\u001b[0m",
      "\u001b[1;31mTypeError\u001b[0m                                 Traceback (most recent call last)",
      "\u001b[1;32m<ipython-input-38-78a8da376bcb>\u001b[0m in \u001b[0;36m<module>\u001b[1;34m\u001b[0m\n\u001b[1;32m----> 1\u001b[1;33m \u001b[0memployee_1\u001b[0m  \u001b[1;33m=\u001b[0m \u001b[0mPerson\u001b[0m\u001b[1;33m(\u001b[0m\u001b[1;33m)\u001b[0m\u001b[1;33m\u001b[0m\u001b[1;33m\u001b[0m\u001b[0m\n\u001b[0m",
      "\u001b[1;31mTypeError\u001b[0m: __init__() missing 3 required positional arguments: 'fname', 'lname', and 'age'"
     ]
    }
   ],
   "source": [
    "employee_1  = Person(\"Bob\", \"Bobson\", 34)\n"
   ]
  },
  {
   "cell_type": "code",
   "execution_count": 39,
   "metadata": {},
   "outputs": [
    {
     "ename": "NameError",
     "evalue": "name 'employee_1' is not defined",
     "output_type": "error",
     "traceback": [
      "\u001b[1;31m---------------------------------------------------------------------------\u001b[0m",
      "\u001b[1;31mNameError\u001b[0m                                 Traceback (most recent call last)",
      "\u001b[1;32m<ipython-input-39-e7b8e465be86>\u001b[0m in \u001b[0;36m<module>\u001b[1;34m\u001b[0m\n\u001b[0;32m      1\u001b[0m \u001b[1;31m# Check to see if the person is working\u001b[0m\u001b[1;33m\u001b[0m\u001b[1;33m\u001b[0m\u001b[1;33m\u001b[0m\u001b[0m\n\u001b[1;32m----> 2\u001b[1;33m \u001b[0memployee_1\u001b[0m\u001b[1;33m.\u001b[0m\u001b[0mis_working\u001b[0m\u001b[1;33m(\u001b[0m\u001b[1;33m)\u001b[0m\u001b[1;33m\u001b[0m\u001b[1;33m\u001b[0m\u001b[0m\n\u001b[0m",
      "\u001b[1;31mNameError\u001b[0m: name 'employee_1' is not defined"
     ]
    }
   ],
   "source": [
    "# Check to see if the person is working\n",
    "employee_1 = Person(\"Bob\", \"Bobson\", 36)\n",
    "employee_1.is_working()"
   ]
  },
  {
   "cell_type": "markdown",
   "metadata": {
    "id": "DP9_oKpi6T9g"
   },
   "source": [
    "### Part 4: Objects and Types\n",
    "\n",
    "More practice with objects and types"
   ]
  },
  {
   "cell_type": "markdown",
   "metadata": {},
   "source": [
    "#### Problem 4.1"
   ]
  },
  {
   "cell_type": "markdown",
   "metadata": {
    "id": "TzwueTwDAT_e"
   },
   "source": [
    "\n",
    "Which of the following are objects?\n",
    "\n",
    "a.\n",
    "```python\n",
    "\"98\"\n",
    "```\n",
    "\n",
    "b.\n",
    "```python\n",
    "28.7\n",
    "```\n",
    "\n",
    "c.\n",
    "```python\n",
    "num_books = 5 * 3\n",
    "```\n",
    "\n",
    "d.\n",
    "```python\n",
    "False\n",
    "```\n",
    "\n",
    "e.\n",
    "```python\n",
    "is_windy = False\n",
    "```"
   ]
  },
  {
   "cell_type": "markdown",
   "metadata": {},
   "source": [
    "all"
   ]
  },
  {
   "cell_type": "markdown",
   "metadata": {
    "id": "tmEby-pV9ctp"
   },
   "source": [
    "#### Problem 4.2\n",
    "\n",
    "Remember, objects contain two parts: attributes (data) and methods (behaviors). Which of the following are attributes?\n",
    "\n",
    "a.\n",
    "```python\n",
    "phone.call(\"Bob\")\n",
    "```\n",
    "\n",
    "b.\n",
    "```python\n",
    "phone.time\n",
    "```\n",
    "\n",
    "c.\n",
    "```python\n",
    "phone.change_volume(50)\n",
    "```\n",
    "\n",
    "d.\n",
    "```python\n",
    "students.names_list\n",
    "```\n",
    "\n",
    "e.\n",
    "```python\n",
    "students.sort_by_age()\n",
    "```"
   ]
  },
  {
   "cell_type": "markdown",
   "metadata": {},
   "source": [
    "b and d"
   ]
  },
  {
   "cell_type": "markdown",
   "metadata": {},
   "source": [
    "## Optional Exercise"
   ]
  },
  {
   "cell_type": "markdown",
   "metadata": {
    "id": "Dy_9fQr7Z-rv"
   },
   "source": [
    "Create a class that describes an object of your choice. (Examples: book, window, patient). Add 3 attributes that describe the object. Add 2 functions that work with the attributes. Demonstrate using the class. "
   ]
  },
  {
   "cell_type": "code",
   "execution_count": 1,
   "metadata": {
    "id": "6hz1Nx7gbZL_"
   },
   "outputs": [],
   "source": [
    "# COMPLETE THIS CODE"
   ]
  },
  {
   "cell_type": "code",
   "execution_count": 2,
   "metadata": {
    "id": "ZxBa6UeUbZL_"
   },
   "outputs": [],
   "source": [
    "# COMPLETE THIS CODE"
   ]
  },
  {
   "cell_type": "code",
   "execution_count": 3,
   "metadata": {
    "id": "Gmp3ws0bbZL_"
   },
   "outputs": [],
   "source": [
    "# COMPLETE THIS CODE"
   ]
  },
  {
   "cell_type": "code",
   "execution_count": 4,
   "metadata": {
    "id": "q19Pj9kxbZL_"
   },
   "outputs": [],
   "source": [
    "# COMPLETE THIS CODE"
   ]
  },
  {
   "cell_type": "code",
   "execution_count": 78,
   "metadata": {
    "id": "O7ebOi8ybZMA"
   },
   "outputs": [],
   "source": [
    "# COMPLETE THIS CODE"
   ]
  }
 ],
 "metadata": {
  "colab": {
   "collapsed_sections": [
    "PpyG4J8jyB_u",
    "uW7IdP0C9WJp",
    "DYB6g6qQYxTa",
    "Dy_9fQr7Z-rv",
    "uzaiDti_bgcF",
    "qHmgepsdb_QY",
    "XvDIuw6vlsKN",
    "rHWtdxaXPOrK",
    "ZuO22Rx-knbR",
    "nU_fifgR7jM5",
    "u0vQg1AM8qDU",
    "RE9FToJzAqOc",
    "AQ_Z2Ct9_QG9",
    "cR-EwTf1sNTP",
    "bgSOjzrtsVPZ",
    "tQZdVv5rsVPb",
    "amw5Yd8xsbfR",
    "MOHwMhmIsbfT",
    "ixi0A-EKslsg",
    "io3Kad6Cslsg",
    "CRWPVBk54lY5",
    "ZBTkOfvi4Wy3",
    "MqYeY5HCtCd0",
    "_JYLkIMOtCd2",
    "jdXTdZJvtCd2",
    "IMi0SltStCd1",
    "ETZzRLR747iI",
    "oLDz58wguUFM",
    "-bnV4zY2yMs8",
    "9FS3rfX9CrNU"
   ],
   "provenance": []
  },
  "kernelspec": {
   "display_name": "Python 3",
   "language": "python",
   "name": "python3"
  },
  "language_info": {
   "codemirror_mode": {
    "name": "ipython",
    "version": 3
   },
   "file_extension": ".py",
   "mimetype": "text/x-python",
   "name": "python",
   "nbconvert_exporter": "python",
   "pygments_lexer": "ipython3",
   "version": "3.9.2"
  }
 },
 "nbformat": 4,
 "nbformat_minor": 1
}
