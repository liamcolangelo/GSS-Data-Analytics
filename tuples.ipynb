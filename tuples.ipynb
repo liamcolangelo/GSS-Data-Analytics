{
 "cells": [
  {
   "cell_type": "markdown",
   "id": "76258f44",
   "metadata": {},
   "source": [
    "# Tuples"
   ]
  },
  {
   "cell_type": "markdown",
   "id": "7598561d",
   "metadata": {},
   "source": [
    "### Example #1"
   ]
  },
  {
   "cell_type": "code",
   "execution_count": 1,
   "id": "e578724d",
   "metadata": {},
   "outputs": [
    {
     "data": {
      "text/plain": [
       "('William', 20, 189.5)"
      ]
     },
     "execution_count": 1,
     "metadata": {},
     "output_type": "execute_result"
    }
   ],
   "source": [
    "my_tuple = (\"William\",20,189.5)                      # Able to store heterogeneous data \n",
    "my_tuple"
   ]
  },
  {
   "cell_type": "markdown",
   "id": "47b24708",
   "metadata": {},
   "source": [
    "### Example #2"
   ]
  },
  {
   "cell_type": "code",
   "execution_count": 2,
   "id": "a3db7c6c",
   "metadata": {},
   "outputs": [
    {
     "data": {
      "text/plain": [
       "'William'"
      ]
     },
     "execution_count": 2,
     "metadata": {},
     "output_type": "execute_result"
    }
   ],
   "source": [
    "my_tuple[0]                                           # Subsetable "
   ]
  },
  {
   "cell_type": "markdown",
   "id": "2d99d4de",
   "metadata": {},
   "source": [
    "### Example #3"
   ]
  },
  {
   "cell_type": "code",
   "execution_count": 3,
   "id": "6a3db5b0",
   "metadata": {},
   "outputs": [
    {
     "ename": "TypeError",
     "evalue": "'tuple' object does not support item assignment",
     "output_type": "error",
     "traceback": [
      "\u001b[1;31m---------------------------------------------------------------------------\u001b[0m",
      "\u001b[1;31mTypeError\u001b[0m                                 Traceback (most recent call last)",
      "\u001b[1;32m<ipython-input-3-9934152defc0>\u001b[0m in \u001b[0;36m<module>\u001b[1;34m\u001b[0m\n\u001b[1;32m----> 1\u001b[1;33m \u001b[0mmy_tuple\u001b[0m\u001b[1;33m[\u001b[0m\u001b[1;36m0\u001b[0m\u001b[1;33m]\u001b[0m \u001b[1;33m=\u001b[0m \u001b[1;34m\"Roberto\"\u001b[0m                              \u001b[1;31m# Mutable (reassign a value) ?\u001b[0m\u001b[1;33m\u001b[0m\u001b[1;33m\u001b[0m\u001b[0m\n\u001b[0m\u001b[0;32m      2\u001b[0m \u001b[0mmy_tuple\u001b[0m\u001b[1;33m\u001b[0m\u001b[1;33m\u001b[0m\u001b[0m\n",
      "\u001b[1;31mTypeError\u001b[0m: 'tuple' object does not support item assignment"
     ]
    }
   ],
   "source": [
    "my_tuple[0] = \"Roberto\"                              # Mutable (reassign a value) ?\n",
    "my_tuple"
   ]
  },
  {
   "cell_type": "markdown",
   "id": "23e47ecf",
   "metadata": {},
   "source": [
    "### Note: \n",
    "\n",
    "To add URL \n",
    " - Change cell to Code \n",
    " - Add URL\n",
    " - Change cell to Markdown \n",
    " - Press Ctrl - Enter to activate link  "
   ]
  },
  {
   "cell_type": "markdown",
   "id": "72feea28",
   "metadata": {},
   "source": [
    "### List Documentation"
   ]
  },
  {
   "cell_type": "markdown",
   "id": "f7d145dd",
   "metadata": {},
   "source": [
    "https://www.w3schools.com/python/python_tuples.asp           "
   ]
  },
  {
   "cell_type": "markdown",
   "id": "d7590d53",
   "metadata": {},
   "source": [
    "https://docs.python.org/3/tutorial/datastructures.html"
   ]
  }
 ],
 "metadata": {
  "kernelspec": {
   "display_name": "Python 3",
   "language": "python",
   "name": "python3"
  },
  "language_info": {
   "codemirror_mode": {
    "name": "ipython",
    "version": 3
   },
   "file_extension": ".py",
   "mimetype": "text/x-python",
   "name": "python",
   "nbconvert_exporter": "python",
   "pygments_lexer": "ipython3",
   "version": "3.8.8"
  }
 },
 "nbformat": 4,
 "nbformat_minor": 5
}
